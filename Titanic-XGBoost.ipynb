{
 "cells": [
  {
   "cell_type": "code",
   "execution_count": 1,
   "id": "0d84d667-089d-41b1-858f-0793d7918580",
   "metadata": {},
   "outputs": [],
   "source": [
    "import pandas as pd\n",
    "import matplotlib.pyplot as plt\n",
    "import numpy as np\n",
    "from xgboost import XGBClassifier"
   ]
  },
  {
   "cell_type": "markdown",
   "id": "f287560a-6a58-4ce6-a5bb-9256ad207149",
   "metadata": {},
   "source": [
    "Loading Data into x_train and y_train"
   ]
  },
  {
   "cell_type": "markdown",
   "id": "81251c23-e3ea-4a19-bbe5-fd495bf8384d",
   "metadata": {},
   "source": [
    "# XGBoost with 6 parameters with Depth selected on Cross-Validation"
   ]
  },
  {
   "cell_type": "code",
   "execution_count": 2,
   "id": "3212f0c5-a97c-48c8-a9bb-353c1b1d495a",
   "metadata": {},
   "outputs": [
    {
     "data": {
      "text/html": [
       "<div>\n",
       "<style scoped>\n",
       "    .dataframe tbody tr th:only-of-type {\n",
       "        vertical-align: middle;\n",
       "    }\n",
       "\n",
       "    .dataframe tbody tr th {\n",
       "        vertical-align: top;\n",
       "    }\n",
       "\n",
       "    .dataframe thead th {\n",
       "        text-align: right;\n",
       "    }\n",
       "</style>\n",
       "<table border=\"1\" class=\"dataframe\">\n",
       "  <thead>\n",
       "    <tr style=\"text-align: right;\">\n",
       "      <th></th>\n",
       "      <th>PassengerId</th>\n",
       "      <th>Pclass</th>\n",
       "      <th>Name</th>\n",
       "      <th>Sex</th>\n",
       "      <th>Age</th>\n",
       "      <th>SibSp</th>\n",
       "      <th>Parch</th>\n",
       "      <th>Ticket</th>\n",
       "      <th>Fare</th>\n",
       "      <th>Cabin</th>\n",
       "      <th>Embarked</th>\n",
       "      <th>Survived</th>\n",
       "    </tr>\n",
       "  </thead>\n",
       "  <tbody>\n",
       "    <tr>\n",
       "      <th>0</th>\n",
       "      <td>1</td>\n",
       "      <td>3</td>\n",
       "      <td>Braund, Mr. Owen Harris</td>\n",
       "      <td>male</td>\n",
       "      <td>22.0</td>\n",
       "      <td>1</td>\n",
       "      <td>0</td>\n",
       "      <td>A/5 21171</td>\n",
       "      <td>7.2500</td>\n",
       "      <td>NaN</td>\n",
       "      <td>S</td>\n",
       "      <td>0</td>\n",
       "    </tr>\n",
       "    <tr>\n",
       "      <th>1</th>\n",
       "      <td>2</td>\n",
       "      <td>1</td>\n",
       "      <td>Cumings, Mrs. John Bradley (Florence Briggs Th...</td>\n",
       "      <td>female</td>\n",
       "      <td>38.0</td>\n",
       "      <td>1</td>\n",
       "      <td>0</td>\n",
       "      <td>PC 17599</td>\n",
       "      <td>71.2833</td>\n",
       "      <td>C85</td>\n",
       "      <td>C</td>\n",
       "      <td>1</td>\n",
       "    </tr>\n",
       "    <tr>\n",
       "      <th>2</th>\n",
       "      <td>3</td>\n",
       "      <td>3</td>\n",
       "      <td>Heikkinen, Miss. Laina</td>\n",
       "      <td>female</td>\n",
       "      <td>26.0</td>\n",
       "      <td>0</td>\n",
       "      <td>0</td>\n",
       "      <td>STON/O2. 3101282</td>\n",
       "      <td>7.9250</td>\n",
       "      <td>NaN</td>\n",
       "      <td>S</td>\n",
       "      <td>1</td>\n",
       "    </tr>\n",
       "    <tr>\n",
       "      <th>3</th>\n",
       "      <td>4</td>\n",
       "      <td>1</td>\n",
       "      <td>Futrelle, Mrs. Jacques Heath (Lily May Peel)</td>\n",
       "      <td>female</td>\n",
       "      <td>35.0</td>\n",
       "      <td>1</td>\n",
       "      <td>0</td>\n",
       "      <td>113803</td>\n",
       "      <td>53.1000</td>\n",
       "      <td>C123</td>\n",
       "      <td>S</td>\n",
       "      <td>1</td>\n",
       "    </tr>\n",
       "    <tr>\n",
       "      <th>4</th>\n",
       "      <td>5</td>\n",
       "      <td>3</td>\n",
       "      <td>Allen, Mr. William Henry</td>\n",
       "      <td>male</td>\n",
       "      <td>35.0</td>\n",
       "      <td>0</td>\n",
       "      <td>0</td>\n",
       "      <td>373450</td>\n",
       "      <td>8.0500</td>\n",
       "      <td>NaN</td>\n",
       "      <td>S</td>\n",
       "      <td>0</td>\n",
       "    </tr>\n",
       "  </tbody>\n",
       "</table>\n",
       "</div>"
      ],
      "text/plain": [
       "   PassengerId  Pclass                                               Name  \\\n",
       "0            1       3                            Braund, Mr. Owen Harris   \n",
       "1            2       1  Cumings, Mrs. John Bradley (Florence Briggs Th...   \n",
       "2            3       3                             Heikkinen, Miss. Laina   \n",
       "3            4       1       Futrelle, Mrs. Jacques Heath (Lily May Peel)   \n",
       "4            5       3                           Allen, Mr. William Henry   \n",
       "\n",
       "      Sex   Age  SibSp  Parch            Ticket     Fare Cabin Embarked  \\\n",
       "0    male  22.0      1      0         A/5 21171   7.2500   NaN        S   \n",
       "1  female  38.0      1      0          PC 17599  71.2833   C85        C   \n",
       "2  female  26.0      0      0  STON/O2. 3101282   7.9250   NaN        S   \n",
       "3  female  35.0      1      0            113803  53.1000  C123        S   \n",
       "4    male  35.0      0      0            373450   8.0500   NaN        S   \n",
       "\n",
       "   Survived  \n",
       "0         0  \n",
       "1         1  \n",
       "2         1  \n",
       "3         1  \n",
       "4         0  "
      ]
     },
     "execution_count": 2,
     "metadata": {},
     "output_type": "execute_result"
    }
   ],
   "source": [
    "df = pd.read_csv('train.csv')\n",
    "df.head()"
   ]
  },
  {
   "cell_type": "markdown",
   "id": "11b067cc-5dbb-41c7-a8b9-32546cacad9c",
   "metadata": {},
   "source": [
    "Display the shape of the data and additional details"
   ]
  },
  {
   "cell_type": "markdown",
   "id": "f144a66f-a2d1-47ba-92c1-76841ab62430",
   "metadata": {},
   "source": [
    "## Checking if Sex is indeed a good Classifier\n",
    "\n",
    "The titanic dataset assumes most women survived, while most men died. \n",
    "The next few lines of code confirms if this assumption stands True."
   ]
  },
  {
   "cell_type": "code",
   "execution_count": 3,
   "id": "31793061-c7ec-4014-855a-6f4546cb31ab",
   "metadata": {},
   "outputs": [
    {
     "name": "stdout",
     "output_type": "stream",
     "text": [
      "% women survived 0.7420382165605095\n"
     ]
    }
   ],
   "source": [
    "women = df.loc[df.Sex == 'female']['Survived']\n",
    "print('% women survived', sum(women)/len(women))"
   ]
  },
  {
   "cell_type": "code",
   "execution_count": 4,
   "id": "ff1df8cf-b817-4344-af5b-e6bf42507f0c",
   "metadata": {},
   "outputs": [
    {
     "name": "stdout",
     "output_type": "stream",
     "text": [
      "% men survived 0.18890814558058924\n"
     ]
    }
   ],
   "source": [
    "men = df.loc[df.Sex == 'male']['Survived']\n",
    "print('% men survived', sum(men)/len(men))"
   ]
  },
  {
   "cell_type": "markdown",
   "id": "9b218bb2-8af6-4e34-ba8f-91f542dfee32",
   "metadata": {},
   "source": [
    "\n",
    "We see that about 75% of the women survived. And 18% of all men died.\n",
    "So, we can conclude that Sex is indeed a good starting point.\n"
   ]
  },
  {
   "cell_type": "markdown",
   "id": "2c6b26f2-5ad9-4fb0-aaf7-6b1da959bedc",
   "metadata": {},
   "source": [
    "## Defining Functions for Plotting Relationships between other Parameters and 'Survived' (output)."
   ]
  },
  {
   "cell_type": "code",
   "execution_count": 5,
   "id": "09fbfefd-c8be-424c-ae3c-a2df252389f3",
   "metadata": {},
   "outputs": [],
   "source": [
    "def hist(ax, prop, bins) :\n",
    "    ax.hist(df[prop], bins)\n",
    "    ax.hist(df.loc[df.Survived == 1][prop], bins=30)\n",
    "    ax.set_ylabel('Count')\n",
    "    ax.set_xlabel(prop)\n",
    "\n",
    "def scatter(ax, prop) :\n",
    "    data = {}\n",
    "    for i in df[prop].unique() :\n",
    "        pclass = df.loc[df[prop] == i]['Survived']\n",
    "        if len(pclass) == 0 : continue\n",
    "        data[i] = sum(pclass)/len(pclass) * 100\n",
    "    data = dict(sorted(data.items(), key = lambda x : x[0]))\n",
    "    ax.scatter(data.keys(), data.values())\n",
    "    ax.set_ylabel('Percentage')\n",
    "    ax.set_xlabel(prop)\n",
    "\n",
    "def plot(ax, prop) :\n",
    "    data = {}\n",
    "    for i in df[prop].unique() :\n",
    "        pclass = df.loc[df[prop] == i]['Survived']\n",
    "        if len(pclass) == 0 : continue\n",
    "        data[i] = sum(pclass)/len(pclass) * 100\n",
    "    data = dict(sorted(data.items(), key = lambda x : x[0]))\n",
    "    ax.plot(data.keys(), data.values())\n",
    "    ax.set_ylabel('Percentage')\n",
    "    ax.set_xlabel(prop)"
   ]
  },
  {
   "cell_type": "code",
   "execution_count": 6,
   "id": "27f71b1f-5611-4103-8a89-6dce318ff0d5",
   "metadata": {},
   "outputs": [
    {
     "data": {
      "image/png": "[encoded data removed]",
      "text/plain": [
       "<Figure size 1200x400 with 2 Axes>"
      ]
     },
     "metadata": {},
     "output_type": "display_data"
    }
   ],
   "source": [
    "fig, (ax1, ax2) = plt.subplots(1,2, figsize = (12,4))\n",
    "scatter(ax1, 'Age')\n",
    "hist(ax2, 'Age', 30)"
   ]
  },
  {
   "cell_type": "markdown",
   "id": "eb77db0f-cb2f-4d5b-9f89-72222d09ba61",
   "metadata": {},
   "source": [
    "## One-Hot Encoding for Sex"
   ]
  },
  {
   "cell_type": "code",
   "execution_count": 7,
   "id": "feae9927-fd17-4608-8667-b6f54b321936",
   "metadata": {},
   "outputs": [
    {
     "data": {
      "text/html": [
       "<div>\n",
       "<style scoped>\n",
       "    .dataframe tbody tr th:only-of-type {\n",
       "        vertical-align: middle;\n",
       "    }\n",
       "\n",
       "    .dataframe tbody tr th {\n",
       "        vertical-align: top;\n",
       "    }\n",
       "\n",
       "    .dataframe thead th {\n",
       "        text-align: right;\n",
       "    }\n",
       "</style>\n",
       "<table border=\"1\" class=\"dataframe\">\n",
       "  <thead>\n",
       "    <tr style=\"text-align: right;\">\n",
       "      <th></th>\n",
       "      <th>PassengerId</th>\n",
       "      <th>Pclass</th>\n",
       "      <th>Name</th>\n",
       "      <th>Age</th>\n",
       "      <th>SibSp</th>\n",
       "      <th>Parch</th>\n",
       "      <th>Ticket</th>\n",
       "      <th>Fare</th>\n",
       "      <th>Cabin</th>\n",
       "      <th>Embarked</th>\n",
       "      <th>Survived</th>\n",
       "      <th>Male</th>\n",
       "    </tr>\n",
       "  </thead>\n",
       "  <tbody>\n",
       "    <tr>\n",
       "      <th>0</th>\n",
       "      <td>1</td>\n",
       "      <td>3</td>\n",
       "      <td>Braund, Mr. Owen Harris</td>\n",
       "      <td>22.0</td>\n",
       "      <td>1</td>\n",
       "      <td>0</td>\n",
       "      <td>A/5 21171</td>\n",
       "      <td>7.2500</td>\n",
       "      <td>NaN</td>\n",
       "      <td>S</td>\n",
       "      <td>0</td>\n",
       "      <td>1</td>\n",
       "    </tr>\n",
       "    <tr>\n",
       "      <th>1</th>\n",
       "      <td>2</td>\n",
       "      <td>1</td>\n",
       "      <td>Cumings, Mrs. John Bradley (Florence Briggs Th...</td>\n",
       "      <td>38.0</td>\n",
       "      <td>1</td>\n",
       "      <td>0</td>\n",
       "      <td>PC 17599</td>\n",
       "      <td>71.2833</td>\n",
       "      <td>C85</td>\n",
       "      <td>C</td>\n",
       "      <td>1</td>\n",
       "      <td>0</td>\n",
       "    </tr>\n",
       "    <tr>\n",
       "      <th>2</th>\n",
       "      <td>3</td>\n",
       "      <td>3</td>\n",
       "      <td>Heikkinen, Miss. Laina</td>\n",
       "      <td>26.0</td>\n",
       "      <td>0</td>\n",
       "      <td>0</td>\n",
       "      <td>STON/O2. 3101282</td>\n",
       "      <td>7.9250</td>\n",
       "      <td>NaN</td>\n",
       "      <td>S</td>\n",
       "      <td>1</td>\n",
       "      <td>0</td>\n",
       "    </tr>\n",
       "    <tr>\n",
       "      <th>3</th>\n",
       "      <td>4</td>\n",
       "      <td>1</td>\n",
       "      <td>Futrelle, Mrs. Jacques Heath (Lily May Peel)</td>\n",
       "      <td>35.0</td>\n",
       "      <td>1</td>\n",
       "      <td>0</td>\n",
       "      <td>113803</td>\n",
       "      <td>53.1000</td>\n",
       "      <td>C123</td>\n",
       "      <td>S</td>\n",
       "      <td>1</td>\n",
       "      <td>0</td>\n",
       "    </tr>\n",
       "    <tr>\n",
       "      <th>4</th>\n",
       "      <td>5</td>\n",
       "      <td>3</td>\n",
       "      <td>Allen, Mr. William Henry</td>\n",
       "      <td>35.0</td>\n",
       "      <td>0</td>\n",
       "      <td>0</td>\n",
       "      <td>373450</td>\n",
       "      <td>8.0500</td>\n",
       "      <td>NaN</td>\n",
       "      <td>S</td>\n",
       "      <td>0</td>\n",
       "      <td>1</td>\n",
       "    </tr>\n",
       "  </tbody>\n",
       "</table>\n",
       "</div>"
      ],
      "text/plain": [
       "   PassengerId  Pclass                                               Name  \\\n",
       "0            1       3                            Braund, Mr. Owen Harris   \n",
       "1            2       1  Cumings, Mrs. John Bradley (Florence Briggs Th...   \n",
       "2            3       3                             Heikkinen, Miss. Laina   \n",
       "3            4       1       Futrelle, Mrs. Jacques Heath (Lily May Peel)   \n",
       "4            5       3                           Allen, Mr. William Henry   \n",
       "\n",
       "    Age  SibSp  Parch            Ticket     Fare Cabin Embarked  Survived  \\\n",
       "0  22.0      1      0         A/5 21171   7.2500   NaN        S         0   \n",
       "1  38.0      1      0          PC 17599  71.2833   C85        C         1   \n",
       "2  26.0      0      0  STON/O2. 3101282   7.9250   NaN        S         1   \n",
       "3  35.0      1      0            113803  53.1000  C123        S         1   \n",
       "4  35.0      0      0            373450   8.0500   NaN        S         0   \n",
       "\n",
       "   Male  \n",
       "0     1  \n",
       "1     0  \n",
       "2     0  \n",
       "3     0  \n",
       "4     1  "
      ]
     },
     "execution_count": 7,
     "metadata": {},
     "output_type": "execute_result"
    }
   ],
   "source": [
    "df1 = df.copy()\n",
    "df1 = df['Male'] = df1['Sex'].apply(lambda x : 1 if x == 'male' else 0)\n",
    "df1 = df.drop('Sex', axis=1)\n",
    "df1.head()"
   ]
  },
  {
   "cell_type": "markdown",
   "id": "1dee7943-a10c-48d3-ab27-51717cf8efb1",
   "metadata": {},
   "source": [
    "## Check for other Paramters (Pclass, Sibling Spouse, Parch)"
   ]
  },
  {
   "cell_type": "code",
   "execution_count": 8,
   "id": "1e1fad52-782b-4593-a93b-68887911e7c3",
   "metadata": {},
   "outputs": [
    {
     "data": {
      "image/png": "[encoded data removed]",
      "text/plain": [
       "<Figure size 1400x200 with 4 Axes>"
      ]
     },
     "metadata": {},
     "output_type": "display_data"
    }
   ],
   "source": [
    "fig, (ax1, ax2, ax3, ax4) = plt.subplots(1,4, figsize = (14,2))\n",
    "plot(ax1, 'Pclass')\n",
    "plot(ax2, 'Male')\n",
    "\n",
    "# fig, (ax3, ax4) = plt.subplots(1,2, figsize = (8,4))\n",
    "plot(ax3, 'SibSp')\n",
    "plot(ax4, 'Parch')"
   ]
  },
  {
   "cell_type": "markdown",
   "id": "f4aeff05-48e6-4779-8597-e3c98598b5f6",
   "metadata": {},
   "source": [
    "## Preparing Test and Cross-Validation Datasets"
   ]
  },
  {
   "cell_type": "code",
   "execution_count": 9,
   "id": "48945aa8-b477-45e7-89e6-901db3184e55",
   "metadata": {},
   "outputs": [
    {
     "name": "stdout",
     "output_type": "stream",
     "text": [
      "(670, 6) (670,)\n",
      "(221, 6) (221,)\n"
     ]
    }
   ],
   "source": [
    "features = ['Pclass', 'Male', 'SibSp', 'Parch', 'Age', 'Fare']\n",
    "\n",
    "df_train = df1.iloc[:670]\n",
    "df_cv = df1.iloc[670:]\n",
    "\n",
    "x_train = df_train[features].to_numpy()\n",
    "y_train = df_train['Survived'].to_numpy()\n",
    "\n",
    "x_cv = df_cv[features].to_numpy()\n",
    "y_cv = df_cv['Survived'].to_numpy()\n",
    "\n",
    "print(x_train.shape, y_train.shape)\n",
    "print(x_cv.shape, y_cv.shape)"
   ]
  },
  {
   "cell_type": "markdown",
   "id": "035ad387-a507-4c79-a1d3-d9474ef63976",
   "metadata": {},
   "source": [
    "## Plotting Accuracy vs. Depth for Training and Cross-Validation Datasets"
   ]
  },
  {
   "cell_type": "code",
   "execution_count": 10,
   "id": "1b1e35fd-913c-4516-ad2e-34f429dafe18",
   "metadata": {},
   "outputs": [],
   "source": [
    "def get_accuracy(model, x, y) :\n",
    "    predictions = model.predict(x)\n",
    "    m,n = x.shape\n",
    "    res = 0\n",
    "    for i in range(m) : \n",
    "         if (predictions[i] == y[i]) : res += 1\n",
    "    return round(res/m, 4)"
   ]
  },
  {
   "cell_type": "code",
   "execution_count": 11,
   "id": "2719e14d-a6a6-4998-ba0b-3787ae480ea7",
   "metadata": {},
   "outputs": [
    {
     "data": {
      "image/png": "[encoded data removed]",
      "text/plain": [
       "<Figure size 640x480 with 1 Axes>"
      ]
     },
     "metadata": {},
     "output_type": "display_data"
    }
   ],
   "source": [
    "total_depth = 10\n",
    "depth = list(range(1,total_depth+1))\n",
    "train_accuracy = np.zeros(total_depth)\n",
    "cv_accuracy = np.zeros(total_depth)\n",
    "\n",
    "for i in depth :\n",
    "    model = XGBClassifier(max_depth = i)\n",
    "    model.fit(x_train, y_train)\n",
    "    \n",
    "    train_accuracy[i-1] = get_accuracy(model, x_train, y_train)\n",
    "    cv_accuracy[i-1] = get_accuracy(model, x_cv, y_cv)\n",
    "\n",
    "plt.plot(depth, train_accuracy)\n",
    "plt.plot(depth, cv_accuracy)\n",
    "plt.show()"
   ]
  },
  {
   "cell_type": "markdown",
   "id": "154c5ff6-ad02-4ced-a235-7ac6be9ea072",
   "metadata": {},
   "source": [
    "We see that the CV dataset performs best on max-depth 4. So we select that depth for our model."
   ]
  },
  {
   "cell_type": "code",
   "execution_count": 12,
   "id": "60a32724-645a-4268-a137-b9949efee6d2",
   "metadata": {},
   "outputs": [
    {
     "name": "stdout",
     "output_type": "stream",
     "text": [
      "Accuracy is 85.52%\n"
     ]
    }
   ],
   "source": [
    "target_depth = np.argmax(cv_accuracy)+1\n",
    "\n",
    "model = XGBClassifier(max_depth = target_depth)\n",
    "model.fit(x_train, y_train)\n",
    "print(f'Accuracy is {get_accuracy(model, x_cv, y_cv) * 100}%')"
   ]
  },
  {
   "cell_type": "markdown",
   "id": "3ebdf07f-b13d-4e7a-a94a-8d8fd4bde928",
   "metadata": {},
   "source": [
    "# Generating the output for the Test File"
   ]
  },
  {
   "cell_type": "code",
   "execution_count": 13,
   "id": "b04151b9-b12a-4f14-86e0-fd8b947f9576",
   "metadata": {},
   "outputs": [
    {
     "data": {
      "text/html": [
       "<div>\n",
       "<style scoped>\n",
       "    .dataframe tbody tr th:only-of-type {\n",
       "        vertical-align: middle;\n",
       "    }\n",
       "\n",
       "    .dataframe tbody tr th {\n",
       "        vertical-align: top;\n",
       "    }\n",
       "\n",
       "    .dataframe thead th {\n",
       "        text-align: right;\n",
       "    }\n",
       "</style>\n",
       "<table border=\"1\" class=\"dataframe\">\n",
       "  <thead>\n",
       "    <tr style=\"text-align: right;\">\n",
       "      <th></th>\n",
       "      <th>PassengerId</th>\n",
       "      <th>Pclass</th>\n",
       "      <th>Name</th>\n",
       "      <th>Sex</th>\n",
       "      <th>Age</th>\n",
       "      <th>SibSp</th>\n",
       "      <th>Parch</th>\n",
       "      <th>Ticket</th>\n",
       "      <th>Fare</th>\n",
       "      <th>Cabin</th>\n",
       "      <th>Embarked</th>\n",
       "      <th>Male</th>\n",
       "    </tr>\n",
       "  </thead>\n",
       "  <tbody>\n",
       "    <tr>\n",
       "      <th>0</th>\n",
       "      <td>892</td>\n",
       "      <td>3</td>\n",
       "      <td>Kelly, Mr. James</td>\n",
       "      <td>male</td>\n",
       "      <td>34.5</td>\n",
       "      <td>0</td>\n",
       "      <td>0</td>\n",
       "      <td>330911</td>\n",
       "      <td>7.8292</td>\n",
       "      <td>NaN</td>\n",
       "      <td>Q</td>\n",
       "      <td>1</td>\n",
       "    </tr>\n",
       "    <tr>\n",
       "      <th>1</th>\n",
       "      <td>893</td>\n",
       "      <td>3</td>\n",
       "      <td>Wilkes, Mrs. James (Ellen Needs)</td>\n",
       "      <td>female</td>\n",
       "      <td>47.0</td>\n",
       "      <td>1</td>\n",
       "      <td>0</td>\n",
       "      <td>363272</td>\n",
       "      <td>7.0000</td>\n",
       "      <td>NaN</td>\n",
       "      <td>S</td>\n",
       "      <td>0</td>\n",
       "    </tr>\n",
       "    <tr>\n",
       "      <th>2</th>\n",
       "      <td>894</td>\n",
       "      <td>2</td>\n",
       "      <td>Myles, Mr. Thomas Francis</td>\n",
       "      <td>male</td>\n",
       "      <td>62.0</td>\n",
       "      <td>0</td>\n",
       "      <td>0</td>\n",
       "      <td>240276</td>\n",
       "      <td>9.6875</td>\n",
       "      <td>NaN</td>\n",
       "      <td>Q</td>\n",
       "      <td>1</td>\n",
       "    </tr>\n",
       "    <tr>\n",
       "      <th>3</th>\n",
       "      <td>895</td>\n",
       "      <td>3</td>\n",
       "      <td>Wirz, Mr. Albert</td>\n",
       "      <td>male</td>\n",
       "      <td>27.0</td>\n",
       "      <td>0</td>\n",
       "      <td>0</td>\n",
       "      <td>315154</td>\n",
       "      <td>8.6625</td>\n",
       "      <td>NaN</td>\n",
       "      <td>S</td>\n",
       "      <td>1</td>\n",
       "    </tr>\n",
       "    <tr>\n",
       "      <th>4</th>\n",
       "      <td>896</td>\n",
       "      <td>3</td>\n",
       "      <td>Hirvonen, Mrs. Alexander (Helga E Lindqvist)</td>\n",
       "      <td>female</td>\n",
       "      <td>22.0</td>\n",
       "      <td>1</td>\n",
       "      <td>1</td>\n",
       "      <td>3101298</td>\n",
       "      <td>12.2875</td>\n",
       "      <td>NaN</td>\n",
       "      <td>S</td>\n",
       "      <td>0</td>\n",
       "    </tr>\n",
       "  </tbody>\n",
       "</table>\n",
       "</div>"
      ],
      "text/plain": [
       "   PassengerId  Pclass                                          Name     Sex  \\\n",
       "0          892       3                              Kelly, Mr. James    male   \n",
       "1          893       3              Wilkes, Mrs. James (Ellen Needs)  female   \n",
       "2          894       2                     Myles, Mr. Thomas Francis    male   \n",
       "3          895       3                              Wirz, Mr. Albert    male   \n",
       "4          896       3  Hirvonen, Mrs. Alexander (Helga E Lindqvist)  female   \n",
       "\n",
       "    Age  SibSp  Parch   Ticket     Fare Cabin Embarked  Male  \n",
       "0  34.5      0      0   330911   7.8292   NaN        Q     1  \n",
       "1  47.0      1      0   363272   7.0000   NaN        S     0  \n",
       "2  62.0      0      0   240276   9.6875   NaN        Q     1  \n",
       "3  27.0      0      0   315154   8.6625   NaN        S     1  \n",
       "4  22.0      1      1  3101298  12.2875   NaN        S     0  "
      ]
     },
     "execution_count": 13,
     "metadata": {},
     "output_type": "execute_result"
    }
   ],
   "source": [
    "df_test = pd.read_csv('test.csv')\n",
    "df_test['Male'] = df_test['Sex'].apply(lambda x : 1 if x == 'male' else 0)\n",
    "# df_test.drop('Sex', axis = 1)\n",
    "df_test.head()"
   ]
  },
  {
   "cell_type": "code",
   "execution_count": 14,
   "id": "f26096fa-eeca-4864-b768-501d900c3858",
   "metadata": {},
   "outputs": [],
   "source": [
    "x_test = df_test[features].to_numpy()\n",
    "test_predictions = model.predict(x_test)"
   ]
  },
  {
   "cell_type": "code",
   "execution_count": 15,
   "id": "a7b4c6fe-c750-4ec0-b099-1ce89b2a4519",
   "metadata": {},
   "outputs": [
    {
     "name": "stdout",
     "output_type": "stream",
     "text": [
      "Percentage of women who survived 8.646616541353383\n"
     ]
    }
   ],
   "source": [
    "women_i = x_test[:,1] == 1\n",
    "women_pred = test_predictions[women_i]\n",
    "\n",
    "print('Percentage of women who survived', sum(women_pred)/len(women_pred) * 100)"
   ]
  },
  {
   "cell_type": "code",
   "execution_count": 16,
   "id": "a9b8481a-8f8e-4587-ac32-23404b2a9918",
   "metadata": {},
   "outputs": [
    {
     "name": "stdout",
     "output_type": "stream",
     "text": [
      "Your submission was successfully saved!\n"
     ]
    }
   ],
   "source": [
    "output = pd.DataFrame({'PassengerId': df_test.PassengerId, 'Survived': test_predictions})\n",
    "output.to_csv('submission.csv', index=False)\n",
    "print(\"Your submission was successfully saved!\")"
   ]
  },
  {
   "cell_type": "code",
   "execution_count": null,
   "id": "6f008278-4e31-438f-ba7e-6be249c85724",
   "metadata": {},
   "outputs": [],
   "source": []
  }
 ],
 "metadata": {
  "kernelspec": {
   "display_name": "Python 3 (ipykernel)",
   "language": "python",
   "name": "python3"
  },
  "language_info": {
   "codemirror_mode": {
    "name": "ipython",
    "version": 3
   },
   "file_extension": ".py",
   "mimetype": "text/x-python",
   "name": "python",
   "nbconvert_exporter": "python",
   "pygments_lexer": "ipython3",
   "version": "3.9.7"
  }
 },
 "nbformat": 4,
 "nbformat_minor": 5
}
